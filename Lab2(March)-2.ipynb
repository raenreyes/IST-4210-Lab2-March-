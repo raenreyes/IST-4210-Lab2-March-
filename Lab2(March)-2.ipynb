{
 "cells": [
  {
   "cell_type": "code",
   "execution_count": 9,
   "id": "3289e27f-4df9-464f-9e4b-59521ea46e64",
   "metadata": {},
   "outputs": [
    {
     "name": "stdout",
     "output_type": "stream",
     "text": [
      "('90210', '60601', '94102')\n",
      "('94102', '60601', '90210')\n"
     ]
    }
   ],
   "source": [
    "#Question 1a : Given a list of cities and their corresponding ZIP codes, extract the ZIP codes and organize them into a tuple. \n",
    "\n",
    "zipcode = {'90210':'Beverly Hills, CA', '60601': 'Chicago, IL', '94102':'San Francisco, CA'}\n",
    "zips = tuple(zipcode.keys());\n",
    "\n",
    "\n",
    "    \n",
    "    \n",
    "    \n",
    "#Question 1b: Rearrange the tuple in reverse order from 1a. \n",
    "reverse_zip = zips[::-1]\n",
    "\n",
    "\n",
    "\n"
   ]
  },
  {
   "cell_type": "code",
   "execution_count": 19,
   "id": "0119a72c-2b26-469e-a8f2-e0b36b62935f",
   "metadata": {},
   "outputs": [
    {
     "name": "stdout",
     "output_type": "stream",
     "text": [
      "Word apples has been found\n",
      "The start and end positions for 'apples': (55, 61)\n",
      "apples\n"
     ]
    }
   ],
   "source": [
    "# question 2 : Here is a list of groceries. The user needs help extracting the text \"apples\" and placing the text \"apples\" into the sentence below.\n",
    "#  Please use regular expressions. ( regex ) \n",
    "import re  \n",
    "random_text = \"Milk, eggs, bread, butter, cheese, fresh fruits (e.g., apples, bananas), fresh vegetables (e.g., lettuce, tomatoes), rice, pasta, canned tomatoes, chicken breasts or thighs, ground beef or turkey, cooking oil (e.g., olive oil), spices (e.g., salt, pepper), snacks (e.g., chips, nuts)\" \n",
    "#from https://randomwordgenerator.com/sentence.php 😀\n",
    "\n",
    "find_apple = re.search(\"apples\",random_text)\n",
    "print(f\"Word {find_apple.group()} has been found\")\n",
    "\n",
    "\n",
    "#What is the starting and ending position of the text \"apples\" in random_text? Paste below 👇 \n",
    "\n",
    "print(f\"The start and end positions for 'apples': {find_apple.span()}\")     \n",
    "  \n"
   ]
  },
  {
   "cell_type": "code",
   "execution_count": 50,
   "id": "bae211a8-20d1-44c2-97bf-5ed98fc4cd74",
   "metadata": {},
   "outputs": [
    {
     "name": "stdout",
     "output_type": "stream",
     "text": [
      "['2 (9&quot;) pie crusts', '7 large Granny Smith apples (peeled, cored and sliced into 1/2 inch slices)', '1/2 cup granulated sugar', '1/2 cup light brown sugar (loosely packed)', '2 tablespoons all-purpose flour', '1 teaspoon ground cinnamon', '1/8 teaspoon ground nutmeg', '1 tablespoon lemon juice (plus the zest of half of a lemon)', '1 large egg (lightly beaten in a small bowl for egg wash)', '2 tablespoons sanding sugar (optional)']\n"
     ]
    }
   ],
   "source": [
    "from bs4 import BeautifulSoup\n",
    "from urllib.request import Request, urlopen\n",
    "import json\n",
    "\n",
    "site = \"https://littlespoonfarm.com/apple-pie-recipe/\"\n",
    "hdr = {'User-Agent': 'Mozilla/5.0'}\n",
    "req = Request(site, headers=hdr)\n",
    "page = urlopen(req)\n",
    "soup = BeautifulSoup(page, 'html.parser')\n",
    "script_tags = soup.find_all(\"script\", {\"class\": \"yoast-schema-graph\", \"type\": \"application/ld+json\"})\n",
    "\n",
    "json_data = None\n",
    "for script_tag in script_tags:\n",
    "    json_data = script_tag.string\n",
    "        \n",
    "data = json.loads(json_data)    \n",
    "\n",
    "recipe_ingredients = None\n",
    "\n",
    "if '@graph' in data:\n",
    "    graph_data = data['@graph']\n",
    "    \n",
    "    for item in graph_data:\n",
    "        if '@type' in item and 'Recipe' in item['@type']:\n",
    "            if 'recipeIngredient' in item:\n",
    "                recipe_ingredients = item['recipeIngredient']\n",
    "                break\n",
    "\n",
    "print(recipe_ingredients)\n",
    "\n",
    "\n",
    "\n",
    "\n",
    "\n",
    "\n",
    "\n",
    "  \n"
   ]
  },
  {
   "cell_type": "code",
   "execution_count": 7,
   "id": "96c51918-ae9b-493a-9803-88087a586dad",
   "metadata": {},
   "outputs": [
    {
     "name": "stdout",
     "output_type": "stream",
     "text": [
      "[-82, -70, -60, -52, -46, -38, -20, -14, 12, 18, 36, 42, 74, 88]\n",
      "[-91, -65, -37, -27, -9, -3, 5, 21, 29, 45, 57, 63, 69, 77, 83, 91]\n",
      "Intersection of set2 and set3: {9, 2, 5, 6}\n"
     ]
    }
   ],
   "source": [
    "# question 4 :\n",
    "# Here are two sets \n",
    "#4a: Create a code for the user who wants to extract only even numbers from setA.\n",
    "setA = {-82, 45, -27, 69, -14, 83, 57, -91, 36, -3, 18, -60, 74, -38, 5, -70, 29, 91, -52, 12, -46, 63, -9, 42, 77, -65, 21, -37, 88, -20}\n",
    "\n",
    "even_number = [];\n",
    "for i in setA:\n",
    "    if (i % 2 == 0):\n",
    "        even_number.append(i)\n",
    "even_number.sort()        \n",
    "print(even_number)\n",
    "\n",
    "#4b: Create a code for the user who wants to extract only odd numbers from setB.\n",
    "setB = {-88, 17, -42, 69, -31, 58, 74, -95, 25, -13, 36, -67, 82, -50, 41, -73, 6, 91, -29, 52, -84, 27, -20, 63, 79, -58, 12, -35, 88, -16}\n",
    "\n",
    "odd_number = [];\n",
    "for i in setA:\n",
    "    if (i % 2 != 0):\n",
    "        odd_number.append(i)\n",
    "odd_number.sort()        \n",
    "print(odd_number)    \n",
    "\n",
    "\n",
    "      \n",
    "#4c: Find the intersection between set2 and set3.\n",
    "\n",
    "set2 = {1,2,4,5,6,7,8,9}\n",
    "set3 = {2,9,5,6,15,13}\n",
    "\n",
    "intersection = set2.intersection(set3)\n",
    "\n",
    "print(f\"Intersection: {intersection}\")\n",
    "\n"
   ]
  },
  {
   "cell_type": "code",
   "execution_count": null,
   "id": "39186245-0a7e-48c4-b0e5-c0b2e8cdb8ed",
   "metadata": {},
   "outputs": [],
   "source": [
    "# Question 5\n",
    "#Upload your completed lab to your GitHub and submit the link to yout Git Hub account.\n",
    "https://github.com/raenreyes/IST-4210-Lab2-March-"
   ]
  }
 ],
 "metadata": {
  "kernelspec": {
   "display_name": "Python 3 (ipykernel)",
   "language": "python",
   "name": "python3"
  },
  "language_info": {
   "codemirror_mode": {
    "name": "ipython",
    "version": 3
   },
   "file_extension": ".py",
   "mimetype": "text/x-python",
   "name": "python",
   "nbconvert_exporter": "python",
   "pygments_lexer": "ipython3",
   "version": "3.11.4"
  }
 },
 "nbformat": 4,
 "nbformat_minor": 5
}
